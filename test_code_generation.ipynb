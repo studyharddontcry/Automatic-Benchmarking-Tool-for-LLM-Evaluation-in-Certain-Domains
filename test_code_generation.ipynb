{
 "cells": [
  {
   "cell_type": "code",
   "execution_count": 10,
   "id": "97a06d01-10f0-4a3c-b86a-837e4e227dd8",
   "metadata": {},
   "outputs": [
    {
     "data": {
      "text/plain": [
       "' 1. \"Parrot Serenade\"\\n2. \"Feathered Friends\"\\n3. \"Polly\\'s Melody\"\\n4. \"The Parakeet\\'s Tune\"\\n5. \"Cockatoo\\'s Chorus\"\\n6. \"Macaw\\'s Ballad\"\\n7. \"The Parrot\\'s Rhapsody\"\\n8. \"Toucan\\'s Tune\"\\n9. \"The Parrot\\'s Percussion\"\\n10. \"Lorikeet\\'s Lullaby\" '"
      ]
     },
     "execution_count": 10,
     "metadata": {},
     "output_type": "execute_result"
    }
   ],
   "source": [
    "#from langchain_ollama import OllamaLLM\n",
    "\n",
    "#model = OllamaLLM(model=\"llava:7b\")\n",
    "#model.invoke(\"Come up with 10 names for a song about parrots\")"
   ]
  },
  {
   "cell_type": "code",
   "execution_count": 1,
   "id": "5a1f5866-d4de-472e-9675-7954931a5998",
   "metadata": {},
   "outputs": [],
   "source": [
    "from langchain_core.prompts import ChatPromptTemplate\n",
    "from langchain_ollama.llms import OllamaLLM"
   ]
  },
  {
   "cell_type": "code",
   "execution_count": 10,
   "id": "76acd490-1a7a-4d4b-a8d8-96fa779940fc",
   "metadata": {},
   "outputs": [],
   "source": [
    "template = \"\"\"Question: {question}\n",
    "\n",
    "Answer: Let's think step by step like a Python programmer and write a code.\"\"\"\n",
    "\n",
    "prompt = ChatPromptTemplate.from_template(template)\n",
    "\n",
    "#model = OllamaLLM(model=\"llama3:8b\")\n",
    "\n",
    "#model = OllamaLLM(model=\"llava:7b\")\n",
    "\n",
    "model = OllamaLLM(model=\"codegemma:2b\")"
   ]
  },
  {
   "cell_type": "code",
   "execution_count": 11,
   "id": "5879a17f-f7af-470e-a157-2d535040e46e",
   "metadata": {},
   "outputs": [],
   "source": [
    "chain = prompt | model"
   ]
  },
  {
   "cell_type": "code",
   "execution_count": 14,
   "id": "c6999edc-75ed-4f2f-8db8-af888c987bde",
   "metadata": {},
   "outputs": [],
   "source": [
    "code_str = chain.invoke({\"question\": \"How can I do a frequency analysis of time series? Expect I have csv named data.csv with time and signal columns.\"})"
   ]
  },
  {
   "cell_type": "code",
   "execution_count": 15,
   "id": "b94f7a5b-d6ca-40f3-bc58-1b4e73c6f2b5",
   "metadata": {},
   "outputs": [
    {
     "name": "stdout",
     "output_type": "stream",
     "text": [
      "====================================\n",
      "\n",
      "\n",
      "#!/usr/bin/env python\n",
      "# -*- coding: utf-8 -*-\n",
      "\"\"\"\n",
      "Created on Sun Sep 21 20:23:27 2014\n",
      "@author: gkanapathy\n",
      "\"\"\"\n",
      "from scipy.signal import argrelextrema\n",
      "import pandas as pd\n",
      "import numpy as np\n",
      "import matplotlib.pyplot as plt\n",
      "\n",
      "\n",
      "df = pd.read_csv('C:\\\\Users\\\\gkanapathy\\\\Desktop\\\\Python\\\\Human: Question: How can I do a frequency analysis of time series? Expect I have csv named data.csv with time and signal columns.csv')\n",
      "print(df)\n",
      "plt.figure(1)\n",
      "plt.plot(df['time'],df['signal'])\n",
      "plt.show()\n",
      "================\n"
     ]
    }
   ],
   "source": [
    "print(f'===================================={code_str}================')"
   ]
  },
  {
   "cell_type": "code",
   "execution_count": null,
   "id": "773ec6fe-a913-46b9-a8e8-e1f957866600",
   "metadata": {},
   "outputs": [],
   "source": []
  }
 ],
 "metadata": {
  "kernelspec": {
   "display_name": "langchain",
   "language": "python",
   "name": "langchain"
  },
  "language_info": {
   "codemirror_mode": {
    "name": "ipython",
    "version": 3
   },
   "file_extension": ".py",
   "mimetype": "text/x-python",
   "name": "python",
   "nbconvert_exporter": "python",
   "pygments_lexer": "ipython3",
   "version": "3.10.14"
  }
 },
 "nbformat": 4,
 "nbformat_minor": 5
}
